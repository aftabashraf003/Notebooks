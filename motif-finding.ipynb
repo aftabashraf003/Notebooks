{
 "cells": [
  {
   "cell_type": "code",
   "execution_count": 1,
   "metadata": {
    "_execution_state": "idle",
    "_uuid": "051d70d956493feee0c6d64651c6a088724dca2a",
    "execution": {
     "iopub.execute_input": "2020-09-22T14:54:34.886766Z",
     "iopub.status.busy": "2020-09-22T14:54:34.885931Z",
     "iopub.status.idle": "2020-09-22T14:54:34.895224Z",
     "shell.execute_reply": "2020-09-22T14:54:34.894631Z"
    },
    "papermill": {
     "duration": 0.029964,
     "end_time": "2020-09-22T14:54:34.895359",
     "exception": false,
     "start_time": "2020-09-22T14:54:34.865395",
     "status": "completed"
    },
    "tags": []
   },
   "outputs": [
    {
     "data": {
      "text/plain": [
       "'/kaggle/input'"
      ]
     },
     "execution_count": 1,
     "metadata": {},
     "output_type": "execute_result"
    }
   ],
   "source": [
    "import os\n",
    "os.getcwd()\n",
    "os.chdir(\"../input/\")\n",
    "os.listdir()\n",
    "os.getcwd()"
   ]
  },
  {
   "cell_type": "markdown",
   "metadata": {
    "papermill": {
     "duration": 0.011712,
     "end_time": "2020-09-22T14:54:34.919860",
     "exception": false,
     "start_time": "2020-09-22T14:54:34.908148",
     "status": "completed"
    },
    "tags": []
   },
   "source": []
  },
  {
   "cell_type": "code",
   "execution_count": 2,
   "metadata": {
    "execution": {
     "iopub.execute_input": "2020-09-22T14:54:34.950252Z",
     "iopub.status.busy": "2020-09-22T14:54:34.949187Z",
     "iopub.status.idle": "2020-09-22T14:54:34.953599Z",
     "shell.execute_reply": "2020-09-22T14:54:34.953032Z"
    },
    "papermill": {
     "duration": 0.021923,
     "end_time": "2020-09-22T14:54:34.953733",
     "exception": false,
     "start_time": "2020-09-22T14:54:34.931810",
     "status": "completed"
    },
    "tags": []
   },
   "outputs": [
    {
     "data": {
      "text/plain": [
       "'/kaggle/input'"
      ]
     },
     "execution_count": 2,
     "metadata": {},
     "output_type": "execute_result"
    }
   ],
   "source": [
    "os.getcwd()"
   ]
  },
  {
   "cell_type": "code",
   "execution_count": 3,
   "metadata": {
    "execution": {
     "iopub.execute_input": "2020-09-22T14:54:34.986133Z",
     "iopub.status.busy": "2020-09-22T14:54:34.985168Z",
     "iopub.status.idle": "2020-09-22T14:54:34.988295Z",
     "shell.execute_reply": "2020-09-22T14:54:34.987568Z"
    },
    "papermill": {
     "duration": 0.022271,
     "end_time": "2020-09-22T14:54:34.988426",
     "exception": false,
     "start_time": "2020-09-22T14:54:34.966155",
     "status": "completed"
    },
    "tags": []
   },
   "outputs": [],
   "source": [
    "import pandas as pd"
   ]
  },
  {
   "cell_type": "code",
   "execution_count": 4,
   "metadata": {
    "execution": {
     "iopub.execute_input": "2020-09-22T14:54:35.021257Z",
     "iopub.status.busy": "2020-09-22T14:54:35.020460Z",
     "iopub.status.idle": "2020-09-22T14:54:35.032259Z",
     "shell.execute_reply": "2020-09-22T14:54:35.031526Z"
    },
    "papermill": {
     "duration": 0.031121,
     "end_time": "2020-09-22T14:54:35.032393",
     "exception": false,
     "start_time": "2020-09-22T14:54:35.001272",
     "status": "completed"
    },
    "tags": []
   },
   "outputs": [],
   "source": [
    "\n",
    "\n",
    "d1= pd.read_csv(\"tomtom (2).tsv\", delimiter=\"\\t\")"
   ]
  },
  {
   "cell_type": "code",
   "execution_count": 5,
   "metadata": {
    "execution": {
     "iopub.execute_input": "2020-09-22T14:54:35.065777Z",
     "iopub.status.busy": "2020-09-22T14:54:35.064702Z",
     "iopub.status.idle": "2020-09-22T14:54:35.072703Z",
     "shell.execute_reply": "2020-09-22T14:54:35.072096Z"
    },
    "papermill": {
     "duration": 0.027543,
     "end_time": "2020-09-22T14:54:35.072869",
     "exception": false,
     "start_time": "2020-09-22T14:54:35.045326",
     "status": "completed"
    },
    "tags": []
   },
   "outputs": [],
   "source": [
    "d2=pd.read_csv(\"tomtom (3).tsv\", delimiter=\"\\t\")"
   ]
  },
  {
   "cell_type": "code",
   "execution_count": 6,
   "metadata": {
    "execution": {
     "iopub.execute_input": "2020-09-22T14:54:35.103479Z",
     "iopub.status.busy": "2020-09-22T14:54:35.102418Z",
     "iopub.status.idle": "2020-09-22T14:54:35.128115Z",
     "shell.execute_reply": "2020-09-22T14:54:35.126536Z"
    },
    "papermill": {
     "duration": 0.042264,
     "end_time": "2020-09-22T14:54:35.128270",
     "exception": false,
     "start_time": "2020-09-22T14:54:35.086006",
     "status": "completed"
    },
    "tags": []
   },
   "outputs": [],
   "source": [
    "d3=pd.read_csv(\"tomtom (4).tsv\", delimiter=\"\\t\")\n",
    "d4=pd.read_csv(\"tomtom (5).tsv\", delimiter=\"\\t\")\n",
    "d5=pd.read_csv(\"tomtom (6).tsv\", delimiter=\"\\t\")\n",
    "d6=pd.read_csv(\"tomtom (7).tsv\", delimiter=\"\\t\")\n"
   ]
  },
  {
   "cell_type": "code",
   "execution_count": 7,
   "metadata": {
    "execution": {
     "iopub.execute_input": "2020-09-22T14:54:35.171162Z",
     "iopub.status.busy": "2020-09-22T14:54:35.170276Z",
     "iopub.status.idle": "2020-09-22T14:54:35.174807Z",
     "shell.execute_reply": "2020-09-22T14:54:35.174228Z"
    },
    "papermill": {
     "duration": 0.033323,
     "end_time": "2020-09-22T14:54:35.174932",
     "exception": false,
     "start_time": "2020-09-22T14:54:35.141609",
     "status": "completed"
    },
    "tags": []
   },
   "outputs": [
    {
     "data": {
      "text/plain": [
       "0     ZN281_MOUSE.H11MO.0.A\n",
       "1     ZN281_HUMAN.H11MO.0.A\n",
       "2     ZN148_HUMAN.H11MO.0.D\n",
       "3     ZN148_MOUSE.H11MO.0.D\n",
       "4      KLF5_HUMAN.H11MO.0.A\n",
       "              ...          \n",
       "77     GCM2_HUMAN.H11MO.0.D\n",
       "78     KLF4_MOUSE.H11MO.0.A\n",
       "79                      NaN\n",
       "80                      NaN\n",
       "81                      NaN\n",
       "Name: Target_ID, Length: 82, dtype: object"
      ]
     },
     "execution_count": 7,
     "metadata": {},
     "output_type": "execute_result"
    }
   ],
   "source": [
    "d2.Target_ID"
   ]
  },
  {
   "cell_type": "code",
   "execution_count": 8,
   "metadata": {
    "execution": {
     "iopub.execute_input": "2020-09-22T14:54:35.219583Z",
     "iopub.status.busy": "2020-09-22T14:54:35.218504Z",
     "iopub.status.idle": "2020-09-22T14:54:35.237356Z",
     "shell.execute_reply": "2020-09-22T14:54:35.236444Z"
    },
    "papermill": {
     "duration": 0.049034,
     "end_time": "2020-09-22T14:54:35.237510",
     "exception": false,
     "start_time": "2020-09-22T14:54:35.188476",
     "status": "completed"
    },
    "tags": []
   },
   "outputs": [
    {
     "data": {
      "text/html": [
       "<div>\n",
       "<style scoped>\n",
       "    .dataframe tbody tr th:only-of-type {\n",
       "        vertical-align: middle;\n",
       "    }\n",
       "\n",
       "    .dataframe tbody tr th {\n",
       "        vertical-align: top;\n",
       "    }\n",
       "\n",
       "    .dataframe thead th {\n",
       "        text-align: right;\n",
       "    }\n",
       "</style>\n",
       "<table border=\"1\" class=\"dataframe\">\n",
       "  <thead>\n",
       "    <tr style=\"text-align: right;\">\n",
       "      <th></th>\n",
       "      <th>Query_ID</th>\n",
       "      <th>Target_ID</th>\n",
       "      <th>Optimal_offset</th>\n",
       "      <th>p-value</th>\n",
       "      <th>E-value</th>\n",
       "      <th>q-value</th>\n",
       "      <th>Overlap</th>\n",
       "      <th>Query_consensus</th>\n",
       "      <th>Target_consensus</th>\n",
       "      <th>Orientation</th>\n",
       "    </tr>\n",
       "  </thead>\n",
       "  <tbody>\n",
       "    <tr>\n",
       "      <th>0</th>\n",
       "      <td>3</td>\n",
       "      <td>ZNF18_HUMAN.H11MO.0.C</td>\n",
       "      <td>-11.0</td>\n",
       "      <td>0.001124</td>\n",
       "      <td>1.46136</td>\n",
       "      <td>1.0</td>\n",
       "      <td>12.0</td>\n",
       "      <td>TTGCGGTCAGTCCAGATCCCGCCACTGCA</td>\n",
       "      <td>CCAGTTCACACC</td>\n",
       "      <td>-</td>\n",
       "    </tr>\n",
       "    <tr>\n",
       "      <th>1</th>\n",
       "      <td>3</td>\n",
       "      <td>THAP1_HUMAN.H11MO.0.C</td>\n",
       "      <td>-2.0</td>\n",
       "      <td>0.002325</td>\n",
       "      <td>3.02234</td>\n",
       "      <td>1.0</td>\n",
       "      <td>22.0</td>\n",
       "      <td>TTGCGGTCAGTCCAGATCCCGCCACTGCA</td>\n",
       "      <td>GCCCGCAGCCAAGATGGCGGCG</td>\n",
       "      <td>-</td>\n",
       "    </tr>\n",
       "    <tr>\n",
       "      <th>2</th>\n",
       "      <td>3</td>\n",
       "      <td>MEIS1_HUMAN.H11MO.1.B</td>\n",
       "      <td>-2.0</td>\n",
       "      <td>0.002505</td>\n",
       "      <td>3.25669</td>\n",
       "      <td>1.0</td>\n",
       "      <td>9.0</td>\n",
       "      <td>TTGCGGTCAGTCCAGATCCCGCCACTGCA</td>\n",
       "      <td>GCTGTCAGC</td>\n",
       "      <td>-</td>\n",
       "    </tr>\n",
       "    <tr>\n",
       "      <th>3</th>\n",
       "      <td>3</td>\n",
       "      <td>NKX22_HUMAN.H11MO.0.D</td>\n",
       "      <td>-20.0</td>\n",
       "      <td>0.003011</td>\n",
       "      <td>3.91369</td>\n",
       "      <td>1.0</td>\n",
       "      <td>8.0</td>\n",
       "      <td>TTGCGGTCAGTCCAGATCCCGCCACTGCA</td>\n",
       "      <td>GCCACTCA</td>\n",
       "      <td>-</td>\n",
       "    </tr>\n",
       "    <tr>\n",
       "      <th>4</th>\n",
       "      <td>3</td>\n",
       "      <td>KLF6_HUMAN.H11MO.0.A</td>\n",
       "      <td>-9.0</td>\n",
       "      <td>0.004242</td>\n",
       "      <td>5.51410</td>\n",
       "      <td>1.0</td>\n",
       "      <td>19.0</td>\n",
       "      <td>TTGCGGTCAGTCCAGATCCCGCCACTGCA</td>\n",
       "      <td>CCCCCGGCCCCGCCCTTCC</td>\n",
       "      <td>-</td>\n",
       "    </tr>\n",
       "    <tr>\n",
       "      <th>5</th>\n",
       "      <td>3</td>\n",
       "      <td>KLF6_MOUSE.H11MO.0.B</td>\n",
       "      <td>-9.0</td>\n",
       "      <td>0.004242</td>\n",
       "      <td>5.51410</td>\n",
       "      <td>1.0</td>\n",
       "      <td>19.0</td>\n",
       "      <td>TTGCGGTCAGTCCAGATCCCGCCACTGCA</td>\n",
       "      <td>CCCCCGGCCCCGCCCTTCC</td>\n",
       "      <td>-</td>\n",
       "    </tr>\n",
       "    <tr>\n",
       "      <th>6</th>\n",
       "      <td>3</td>\n",
       "      <td>NFIC_MOUSE.H11MO.1.A</td>\n",
       "      <td>0.0</td>\n",
       "      <td>0.005046</td>\n",
       "      <td>6.55993</td>\n",
       "      <td>1.0</td>\n",
       "      <td>15.0</td>\n",
       "      <td>TTGCGGTCAGTCCAGATCCCGCCACTGCA</td>\n",
       "      <td>TGGCAGGGTGCCAGG</td>\n",
       "      <td>-</td>\n",
       "    </tr>\n",
       "    <tr>\n",
       "      <th>7</th>\n",
       "      <td>3</td>\n",
       "      <td>ATF1_HUMAN.H11MO.0.B</td>\n",
       "      <td>-16.0</td>\n",
       "      <td>0.005253</td>\n",
       "      <td>6.82928</td>\n",
       "      <td>1.0</td>\n",
       "      <td>11.0</td>\n",
       "      <td>TTGCGGTCAGTCCAGATCCCGCCACTGCA</td>\n",
       "      <td>TGACGTCACCG</td>\n",
       "      <td>-</td>\n",
       "    </tr>\n",
       "    <tr>\n",
       "      <th>8</th>\n",
       "      <td>3</td>\n",
       "      <td>TGIF1_HUMAN.H11MO.0.A</td>\n",
       "      <td>-2.0</td>\n",
       "      <td>0.006767</td>\n",
       "      <td>8.79680</td>\n",
       "      <td>1.0</td>\n",
       "      <td>7.0</td>\n",
       "      <td>TTGCGGTCAGTCCAGATCCCGCCACTGCA</td>\n",
       "      <td>GCTGTCA</td>\n",
       "      <td>-</td>\n",
       "    </tr>\n",
       "    <tr>\n",
       "      <th>9</th>\n",
       "      <td>3</td>\n",
       "      <td>E2F4_MOUSE.H11MO.0.A</td>\n",
       "      <td>-13.0</td>\n",
       "      <td>0.006944</td>\n",
       "      <td>9.02668</td>\n",
       "      <td>1.0</td>\n",
       "      <td>14.0</td>\n",
       "      <td>TTGCGGTCAGTCCAGATCCCGCCACTGCA</td>\n",
       "      <td>ATTTCCCGCCCCCT</td>\n",
       "      <td>-</td>\n",
       "    </tr>\n",
       "    <tr>\n",
       "      <th>10</th>\n",
       "      <td>3</td>\n",
       "      <td>EGR1_MOUSE.H11MO.0.A</td>\n",
       "      <td>-16.0</td>\n",
       "      <td>0.006944</td>\n",
       "      <td>9.02668</td>\n",
       "      <td>1.0</td>\n",
       "      <td>13.0</td>\n",
       "      <td>TTGCGGTCAGTCCAGATCCCGCCACTGCA</td>\n",
       "      <td>CCCCGCCCCCGCAC</td>\n",
       "      <td>-</td>\n",
       "    </tr>\n",
       "    <tr>\n",
       "      <th>11</th>\n",
       "      <td># Tomtom (Motif Comparison Tool): Version 5.1....</td>\n",
       "      <td>NaN</td>\n",
       "      <td>NaN</td>\n",
       "      <td>NaN</td>\n",
       "      <td>NaN</td>\n",
       "      <td>NaN</td>\n",
       "      <td>NaN</td>\n",
       "      <td>NaN</td>\n",
       "      <td>NaN</td>\n",
       "      <td>NaN</td>\n",
       "    </tr>\n",
       "    <tr>\n",
       "      <th>12</th>\n",
       "      <td># The format of this file is described at http...</td>\n",
       "      <td>NaN</td>\n",
       "      <td>NaN</td>\n",
       "      <td>NaN</td>\n",
       "      <td>NaN</td>\n",
       "      <td>NaN</td>\n",
       "      <td>NaN</td>\n",
       "      <td>NaN</td>\n",
       "      <td>NaN</td>\n",
       "      <td>NaN</td>\n",
       "    </tr>\n",
       "    <tr>\n",
       "      <th>13</th>\n",
       "      <td># tomtom -no-ssc -oc . -verbosity 1 -min-overl...</td>\n",
       "      <td>NaN</td>\n",
       "      <td>NaN</td>\n",
       "      <td>NaN</td>\n",
       "      <td>NaN</td>\n",
       "      <td>NaN</td>\n",
       "      <td>NaN</td>\n",
       "      <td>NaN</td>\n",
       "      <td>NaN</td>\n",
       "      <td>NaN</td>\n",
       "    </tr>\n",
       "  </tbody>\n",
       "</table>\n",
       "</div>"
      ],
      "text/plain": [
       "                                             Query_ID              Target_ID  \\\n",
       "0                                                   3  ZNF18_HUMAN.H11MO.0.C   \n",
       "1                                                   3  THAP1_HUMAN.H11MO.0.C   \n",
       "2                                                   3  MEIS1_HUMAN.H11MO.1.B   \n",
       "3                                                   3  NKX22_HUMAN.H11MO.0.D   \n",
       "4                                                   3   KLF6_HUMAN.H11MO.0.A   \n",
       "5                                                   3   KLF6_MOUSE.H11MO.0.B   \n",
       "6                                                   3   NFIC_MOUSE.H11MO.1.A   \n",
       "7                                                   3   ATF1_HUMAN.H11MO.0.B   \n",
       "8                                                   3  TGIF1_HUMAN.H11MO.0.A   \n",
       "9                                                   3   E2F4_MOUSE.H11MO.0.A   \n",
       "10                                                  3   EGR1_MOUSE.H11MO.0.A   \n",
       "11  # Tomtom (Motif Comparison Tool): Version 5.1....                    NaN   \n",
       "12  # The format of this file is described at http...                    NaN   \n",
       "13  # tomtom -no-ssc -oc . -verbosity 1 -min-overl...                    NaN   \n",
       "\n",
       "    Optimal_offset   p-value  E-value  q-value  Overlap  \\\n",
       "0            -11.0  0.001124  1.46136      1.0     12.0   \n",
       "1             -2.0  0.002325  3.02234      1.0     22.0   \n",
       "2             -2.0  0.002505  3.25669      1.0      9.0   \n",
       "3            -20.0  0.003011  3.91369      1.0      8.0   \n",
       "4             -9.0  0.004242  5.51410      1.0     19.0   \n",
       "5             -9.0  0.004242  5.51410      1.0     19.0   \n",
       "6              0.0  0.005046  6.55993      1.0     15.0   \n",
       "7            -16.0  0.005253  6.82928      1.0     11.0   \n",
       "8             -2.0  0.006767  8.79680      1.0      7.0   \n",
       "9            -13.0  0.006944  9.02668      1.0     14.0   \n",
       "10           -16.0  0.006944  9.02668      1.0     13.0   \n",
       "11             NaN       NaN      NaN      NaN      NaN   \n",
       "12             NaN       NaN      NaN      NaN      NaN   \n",
       "13             NaN       NaN      NaN      NaN      NaN   \n",
       "\n",
       "                  Query_consensus        Target_consensus Orientation  \n",
       "0   TTGCGGTCAGTCCAGATCCCGCCACTGCA            CCAGTTCACACC           -  \n",
       "1   TTGCGGTCAGTCCAGATCCCGCCACTGCA  GCCCGCAGCCAAGATGGCGGCG           -  \n",
       "2   TTGCGGTCAGTCCAGATCCCGCCACTGCA               GCTGTCAGC           -  \n",
       "3   TTGCGGTCAGTCCAGATCCCGCCACTGCA                GCCACTCA           -  \n",
       "4   TTGCGGTCAGTCCAGATCCCGCCACTGCA     CCCCCGGCCCCGCCCTTCC           -  \n",
       "5   TTGCGGTCAGTCCAGATCCCGCCACTGCA     CCCCCGGCCCCGCCCTTCC           -  \n",
       "6   TTGCGGTCAGTCCAGATCCCGCCACTGCA         TGGCAGGGTGCCAGG           -  \n",
       "7   TTGCGGTCAGTCCAGATCCCGCCACTGCA             TGACGTCACCG           -  \n",
       "8   TTGCGGTCAGTCCAGATCCCGCCACTGCA                 GCTGTCA           -  \n",
       "9   TTGCGGTCAGTCCAGATCCCGCCACTGCA          ATTTCCCGCCCCCT           -  \n",
       "10  TTGCGGTCAGTCCAGATCCCGCCACTGCA          CCCCGCCCCCGCAC           -  \n",
       "11                            NaN                     NaN         NaN  \n",
       "12                            NaN                     NaN         NaN  \n",
       "13                            NaN                     NaN         NaN  "
      ]
     },
     "execution_count": 8,
     "metadata": {},
     "output_type": "execute_result"
    }
   ],
   "source": [
    "d6"
   ]
  },
  {
   "cell_type": "code",
   "execution_count": 9,
   "metadata": {
    "execution": {
     "iopub.execute_input": "2020-09-22T14:54:35.273208Z",
     "iopub.status.busy": "2020-09-22T14:54:35.272501Z",
     "iopub.status.idle": "2020-09-22T14:54:35.276313Z",
     "shell.execute_reply": "2020-09-22T14:54:35.275553Z"
    },
    "papermill": {
     "duration": 0.024288,
     "end_time": "2020-09-22T14:54:35.276450",
     "exception": false,
     "start_time": "2020-09-22T14:54:35.252162",
     "status": "completed"
    },
    "tags": []
   },
   "outputs": [],
   "source": [
    "frame1=[d1,d2,d3]\n",
    "frame2=[d4,d5,d6]\n"
   ]
  },
  {
   "cell_type": "code",
   "execution_count": 10,
   "metadata": {
    "execution": {
     "iopub.execute_input": "2020-09-22T14:54:35.310295Z",
     "iopub.status.busy": "2020-09-22T14:54:35.309236Z",
     "iopub.status.idle": "2020-09-22T14:54:35.320221Z",
     "shell.execute_reply": "2020-09-22T14:54:35.319486Z"
    },
    "papermill": {
     "duration": 0.029148,
     "end_time": "2020-09-22T14:54:35.320349",
     "exception": false,
     "start_time": "2020-09-22T14:54:35.291201",
     "status": "completed"
    },
    "tags": []
   },
   "outputs": [],
   "source": [
    "result1 = pd.concat(frame1)\n",
    "result2= pd.concat(frame2)"
   ]
  },
  {
   "cell_type": "code",
   "execution_count": 11,
   "metadata": {
    "execution": {
     "iopub.execute_input": "2020-09-22T14:54:35.354066Z",
     "iopub.status.busy": "2020-09-22T14:54:35.353252Z",
     "iopub.status.idle": "2020-09-22T14:54:35.376672Z",
     "shell.execute_reply": "2020-09-22T14:54:35.377340Z"
    },
    "papermill": {
     "duration": 0.042314,
     "end_time": "2020-09-22T14:54:35.377507",
     "exception": false,
     "start_time": "2020-09-22T14:54:35.335193",
     "status": "completed"
    },
    "tags": []
   },
   "outputs": [
    {
     "data": {
      "text/html": [
       "<div>\n",
       "<style scoped>\n",
       "    .dataframe tbody tr th:only-of-type {\n",
       "        vertical-align: middle;\n",
       "    }\n",
       "\n",
       "    .dataframe tbody tr th {\n",
       "        vertical-align: top;\n",
       "    }\n",
       "\n",
       "    .dataframe thead th {\n",
       "        text-align: right;\n",
       "    }\n",
       "</style>\n",
       "<table border=\"1\" class=\"dataframe\">\n",
       "  <thead>\n",
       "    <tr style=\"text-align: right;\">\n",
       "      <th></th>\n",
       "      <th>Query_ID</th>\n",
       "      <th>Target_ID</th>\n",
       "      <th>Optimal_offset</th>\n",
       "      <th>p-value</th>\n",
       "      <th>E-value</th>\n",
       "      <th>q-value</th>\n",
       "      <th>Overlap</th>\n",
       "      <th>Query_consensus</th>\n",
       "      <th>Target_consensus</th>\n",
       "      <th>Orientation</th>\n",
       "    </tr>\n",
       "  </thead>\n",
       "  <tbody>\n",
       "    <tr>\n",
       "      <th>1</th>\n",
       "      <td>3</td>\n",
       "      <td>UBIP1_MOUSE.H11MO.0.D</td>\n",
       "      <td>-9.0</td>\n",
       "      <td>0.000104</td>\n",
       "      <td>0.135227</td>\n",
       "      <td>0.135227</td>\n",
       "      <td>7.0</td>\n",
       "      <td>TTTCTTATAGCAGAGAACC</td>\n",
       "      <td>CCAGAAA</td>\n",
       "      <td>+</td>\n",
       "    </tr>\n",
       "    <tr>\n",
       "      <th>2</th>\n",
       "      <td>3</td>\n",
       "      <td>SMAD1_HUMAN.H11MO.0.D</td>\n",
       "      <td>-8.0</td>\n",
       "      <td>0.005181</td>\n",
       "      <td>6.735870</td>\n",
       "      <td>1.000000</td>\n",
       "      <td>11.0</td>\n",
       "      <td>TTTCTTATAGCAGAGAACC</td>\n",
       "      <td>GGCAGACAGGCT</td>\n",
       "      <td>-</td>\n",
       "    </tr>\n",
       "    <tr>\n",
       "      <th>3</th>\n",
       "      <td>3</td>\n",
       "      <td>SMAD1_MOUSE.H11MO.0.D</td>\n",
       "      <td>-8.0</td>\n",
       "      <td>0.005181</td>\n",
       "      <td>6.735870</td>\n",
       "      <td>1.000000</td>\n",
       "      <td>11.0</td>\n",
       "      <td>TTTCTTATAGCAGAGAACC</td>\n",
       "      <td>GGCAGACAGGCT</td>\n",
       "      <td>-</td>\n",
       "    </tr>\n",
       "    <tr>\n",
       "      <th>4</th>\n",
       "      <td>3</td>\n",
       "      <td>HXD13_HUMAN.H11MO.0.D</td>\n",
       "      <td>0.0</td>\n",
       "      <td>0.007363</td>\n",
       "      <td>9.572290</td>\n",
       "      <td>1.000000</td>\n",
       "      <td>11.0</td>\n",
       "      <td>TTTCTTATAGCAGAGAACC</td>\n",
       "      <td>TTTATTAGGGA</td>\n",
       "      <td>+</td>\n",
       "    </tr>\n",
       "    <tr>\n",
       "      <th>5</th>\n",
       "      <td>3</td>\n",
       "      <td>HXD13_MOUSE.H11MO.0.D</td>\n",
       "      <td>0.0</td>\n",
       "      <td>0.007363</td>\n",
       "      <td>9.572290</td>\n",
       "      <td>1.000000</td>\n",
       "      <td>11.0</td>\n",
       "      <td>TTTCTTATAGCAGAGAACC</td>\n",
       "      <td>TTTATTAGGGA</td>\n",
       "      <td>+</td>\n",
       "    </tr>\n",
       "  </tbody>\n",
       "</table>\n",
       "</div>"
      ],
      "text/plain": [
       "  Query_ID              Target_ID  Optimal_offset   p-value   E-value  \\\n",
       "1        3  UBIP1_MOUSE.H11MO.0.D            -9.0  0.000104  0.135227   \n",
       "2        3  SMAD1_HUMAN.H11MO.0.D            -8.0  0.005181  6.735870   \n",
       "3        3  SMAD1_MOUSE.H11MO.0.D            -8.0  0.005181  6.735870   \n",
       "4        3  HXD13_HUMAN.H11MO.0.D             0.0  0.007363  9.572290   \n",
       "5        3  HXD13_MOUSE.H11MO.0.D             0.0  0.007363  9.572290   \n",
       "\n",
       "    q-value  Overlap      Query_consensus Target_consensus Orientation  \n",
       "1  0.135227      7.0  TTTCTTATAGCAGAGAACC          CCAGAAA           +  \n",
       "2  1.000000     11.0  TTTCTTATAGCAGAGAACC     GGCAGACAGGCT           -  \n",
       "3  1.000000     11.0  TTTCTTATAGCAGAGAACC     GGCAGACAGGCT           -  \n",
       "4  1.000000     11.0  TTTCTTATAGCAGAGAACC      TTTATTAGGGA           +  \n",
       "5  1.000000     11.0  TTTCTTATAGCAGAGAACC      TTTATTAGGGA           +  "
      ]
     },
     "execution_count": 11,
     "metadata": {},
     "output_type": "execute_result"
    }
   ],
   "source": [
    "df1=result1.dropna()\n",
    "df1.shape\n",
    "df1.tail()"
   ]
  },
  {
   "cell_type": "code",
   "execution_count": 12,
   "metadata": {
    "execution": {
     "iopub.execute_input": "2020-09-22T14:54:35.413402Z",
     "iopub.status.busy": "2020-09-22T14:54:35.412291Z",
     "iopub.status.idle": "2020-09-22T14:54:35.423683Z",
     "shell.execute_reply": "2020-09-22T14:54:35.424262Z"
    },
    "papermill": {
     "duration": 0.03108,
     "end_time": "2020-09-22T14:54:35.424429",
     "exception": false,
     "start_time": "2020-09-22T14:54:35.393349",
     "status": "completed"
    },
    "tags": []
   },
   "outputs": [
    {
     "data": {
      "text/plain": [
       "(96, 10)"
      ]
     },
     "execution_count": 12,
     "metadata": {},
     "output_type": "execute_result"
    }
   ],
   "source": [
    "result2= pd.concat(frame2)\n",
    "df2=result2.dropna()\n",
    "result2.shape\n"
   ]
  },
  {
   "cell_type": "code",
   "execution_count": 13,
   "metadata": {
    "execution": {
     "iopub.execute_input": "2020-09-22T14:54:35.466661Z",
     "iopub.status.busy": "2020-09-22T14:54:35.465674Z",
     "iopub.status.idle": "2020-09-22T14:54:35.468588Z",
     "shell.execute_reply": "2020-09-22T14:54:35.468064Z"
    },
    "papermill": {
     "duration": 0.028198,
     "end_time": "2020-09-22T14:54:35.468737",
     "exception": false,
     "start_time": "2020-09-22T14:54:35.440539",
     "status": "completed"
    },
    "tags": []
   },
   "outputs": [],
   "source": [
    "df1 = df1[df1['Target_ID'].str.contains(\"HUMAN\")] \n",
    "df2=df2[df2['Target_ID'].str.contains(\"HUMAN\")] \n"
   ]
  },
  {
   "cell_type": "code",
   "execution_count": 14,
   "metadata": {
    "execution": {
     "iopub.execute_input": "2020-09-22T14:54:35.514962Z",
     "iopub.status.busy": "2020-09-22T14:54:35.513928Z",
     "iopub.status.idle": "2020-09-22T14:54:35.529578Z",
     "shell.execute_reply": "2020-09-22T14:54:35.530108Z"
    },
    "papermill": {
     "duration": 0.042769,
     "end_time": "2020-09-22T14:54:35.530289",
     "exception": false,
     "start_time": "2020-09-22T14:54:35.487520",
     "status": "completed"
    },
    "tags": []
   },
   "outputs": [],
   "source": [
    "dfcommon= df1.merge(df2, on=\"Target_ID\", how = 'inner')"
   ]
  },
  {
   "cell_type": "code",
   "execution_count": 15,
   "metadata": {
    "execution": {
     "iopub.execute_input": "2020-09-22T14:54:35.567467Z",
     "iopub.status.busy": "2020-09-22T14:54:35.566425Z",
     "iopub.status.idle": "2020-09-22T14:54:35.573067Z",
     "shell.execute_reply": "2020-09-22T14:54:35.573540Z"
    },
    "papermill": {
     "duration": 0.02706,
     "end_time": "2020-09-22T14:54:35.573709",
     "exception": false,
     "start_time": "2020-09-22T14:54:35.546649",
     "status": "completed"
    },
    "tags": []
   },
   "outputs": [
    {
     "data": {
      "text/plain": [
       "array(['PRDM6_HUMAN.H11MO.0.C', 'ZN281_HUMAN.H11MO.0.A',\n",
       "       'ZBT17_HUMAN.H11MO.0.A', 'EGR2_HUMAN.H11MO.0.A',\n",
       "       'TBX1_HUMAN.H11MO.0.D', 'EGR1_HUMAN.H11MO.0.A',\n",
       "       'KLF6_HUMAN.H11MO.0.A', 'ZN219_HUMAN.H11MO.0.D',\n",
       "       'MAZ_HUMAN.H11MO.0.A', 'SP1_HUMAN.H11MO.1.A',\n",
       "       'PATZ1_HUMAN.H11MO.0.C', 'SP1_HUMAN.H11MO.0.A',\n",
       "       'KLF4_HUMAN.H11MO.0.A', 'HXD13_HUMAN.H11MO.0.D'], dtype=object)"
      ]
     },
     "execution_count": 15,
     "metadata": {},
     "output_type": "execute_result"
    }
   ],
   "source": [
    "dfcommon.Target_ID.unique()"
   ]
  },
  {
   "cell_type": "code",
   "execution_count": null,
   "metadata": {
    "papermill": {
     "duration": 0.016626,
     "end_time": "2020-09-22T14:54:35.607208",
     "exception": false,
     "start_time": "2020-09-22T14:54:35.590582",
     "status": "completed"
    },
    "tags": []
   },
   "outputs": [],
   "source": []
  }
 ],
 "metadata": {
  "kernelspec": {
   "display_name": "Python 3",
   "language": "python",
   "name": "python3"
  },
  "language_info": {
   "codemirror_mode": {
    "name": "ipython",
    "version": 3
   },
   "file_extension": ".py",
   "mimetype": "text/x-python",
   "name": "python",
   "nbconvert_exporter": "python",
   "pygments_lexer": "ipython3",
   "version": "3.7.6"
  },
  "papermill": {
   "duration": 5.867716,
   "end_time": "2020-09-22T14:54:35.732339",
   "environment_variables": {},
   "exception": null,
   "input_path": "__notebook__.ipynb",
   "output_path": "__notebook__.ipynb",
   "parameters": {},
   "start_time": "2020-09-22T14:54:29.864623",
   "version": "2.1.0"
  }
 },
 "nbformat": 4,
 "nbformat_minor": 4
}
